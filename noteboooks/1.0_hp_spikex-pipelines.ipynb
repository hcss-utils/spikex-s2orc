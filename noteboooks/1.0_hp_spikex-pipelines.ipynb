{
 "cells": [
  {
   "cell_type": "markdown",
   "id": "56f0a11a-6b8a-4c19-8f26-8ce2143a53ba",
   "metadata": {},
   "source": [
    "# Preparing data\n",
    "\n",
    "This notebook contains `SpikeX` usage examples\n",
    "tailored towards our field. \n",
    "\n",
    "- loading & processing **Influence-IR S2ORC** dataset\n",
    "- running `SpikeX` pipelines on a sample publication"
   ]
  },
  {
   "cell_type": "code",
   "execution_count": 1,
   "id": "7293be27-6a39-44f8-af48-8a08cfd52bac",
   "metadata": {},
   "outputs": [],
   "source": [
    "import json\n",
    "import pathlib\n",
    "from typing import Iterator, Dict, Any"
   ]
  },
  {
   "cell_type": "code",
   "execution_count": 2,
   "id": "1cda1651-95c8-4d8f-89cb-0baf3aaee53f",
   "metadata": {},
   "outputs": [],
   "source": [
    "# path\n",
    "ROOT = pathlib.Path(\"./\").resolve().parent\n",
    "RAW = ROOT / \"data\" / \"raw\"\n",
    "\n",
    "# typing classes\n",
    "# doesn't change the behaviour of the code,\n",
    "# but rather helps to understad what a particular function\n",
    "# takes as an input or returns as an output\n",
    "Publication = Dict[str, Any]"
   ]
  },
  {
   "cell_type": "code",
   "execution_count": 3,
   "id": "651bf525-ab82-41ff-b440-995df2c76add",
   "metadata": {},
   "outputs": [],
   "source": [
    "def read_jsonl(p: pathlib.PosixPath) -> Iterator[Publication]:\n",
    "    \"\"\"Yield .jsonl file's contents line by line.\"\"\"\n",
    "    with open(RAW / \"test.jsonl\", \"r\") as lines:\n",
    "        for line in lines:\n",
    "            yield json.loads(line)\n",
    "            \n",
    "            \n",
    "def retrive_text(data: Publication, field: str = \"body_text\") -> str:\n",
    "    \"\"\"Parse 'body_text' or 'abstract' fields extracting raw texts.\"\"\"\n",
    "    return \" \".join(section[\"text\"] for section in data[field])"
   ]
  },
  {
   "cell_type": "code",
   "execution_count": 4,
   "id": "544d1251-5907-4ded-81a2-0e614298c7f2",
   "metadata": {},
   "outputs": [],
   "source": [
    "# testing on a sample text - first one in our corpus\n",
    "# creating generator\n",
    "data = read_jsonl(RAW / \"test.jsonl\")\n",
    "\n",
    "# loading the second entry\n",
    "next(data)\n",
    "publication = next(data)"
   ]
  },
  {
   "cell_type": "code",
   "execution_count": 5,
   "id": "3c522c45-9132-4a16-a76d-b819ef732618",
   "metadata": {
    "tags": []
   },
   "outputs": [
    {
     "data": {
      "text/plain": [
       "dict_keys(['paper_id', '_pdf_hash', 'abstract', 'body_text', 'bib_entries', 'ref_entries'])"
      ]
     },
     "execution_count": 5,
     "metadata": {},
     "output_type": "execute_result"
    }
   ],
   "source": [
    "publication.keys()"
   ]
  },
  {
   "cell_type": "code",
   "execution_count": 6,
   "id": "fc2bdb46-79ca-4a43-bcd5-f0233c5381d0",
   "metadata": {},
   "outputs": [
    {
     "data": {
      "text/plain": [
       "{'section': 'Abstract',\n",
       " 'text': 'Sovereignty is a funny thing. It is allegedly the foundation of the Westphalian order, but its exact contours are frustratingly indeterminate. When it was revealed that the Russian government interfered in the 2016 U.S. presidential election by, among other things, hacking into the e-mail system of the Democratic National Committee (DNC) and releasing its e-mails, international lawyers were divided over whether the cyber attack violated international law. President Obama seemingly went out of his way to describe the attack as a mere violation of \"established international norms of behavior\" and pointedly declined to refer to the cyber attacks as a violation of international law. \\' Some international lawyers were more willing to describe the cyber attack as a violation of international law.',\n",
       " 'cite_spans': [],\n",
       " 'ref_spans': []}"
      ]
     },
     "execution_count": 6,
     "metadata": {},
     "output_type": "execute_result"
    }
   ],
   "source": [
    "# this is how the first section of an abstract field \n",
    "# looks like\n",
    "publication[\"abstract\"][0]"
   ]
  },
  {
   "cell_type": "code",
   "execution_count": 7,
   "id": "04aa4ce6-af2a-440f-878b-632f106a6fd1",
   "metadata": {},
   "outputs": [],
   "source": [
    "text = retrive_text(publication, field=\"abstract\")"
   ]
  },
  {
   "cell_type": "code",
   "execution_count": 8,
   "id": "0205432f-5aeb-4454-be01-7c41172f0cb8",
   "metadata": {},
   "outputs": [
    {
     "data": {
      "text/plain": [
       "'Sovereignty is a funny thing. It is allegedly the foundation of the Westphalian order, but its exact contours are frustratingly indeterminate. When it was revealed that the Russian government interfered in the 2016 U.S. presidential election by, among other things, hacking into the e-mail system of the Democratic National Committee (DNC) and releasing its e-mails, international lawyers were divided over whether the cyber attack violated international law. President Obama seemingly went out of his way to describe the attack as a mere violation of \"established international norms of behavior\" and pointedly declined to refer to the cyber attacks as a violation of international law. \\' Some international lawyers were more willing to describe the cyber attack as a violation of international law. 2 However, identifying the exact legal norm that was contravened turns out to be harder than it might otherwise appear. To the layperson, the Russian hacking constituted an impermissible (and perhaps) shocking interference in the American political process-an intervention that nonlawyers would not hesitate to label a \"violation of sovereignty\" as that term is used in political or diplomatic discourse. 3 The problem arises when one attempts to translate that commonsense intuition into legal discourse. At that point, the translation effort breaks down for a variety of reasons. The genesis of the difficulty is that none of the standard rubrics for understanding illegal interventions clearly and unambiguously apply to the'"
      ]
     },
     "execution_count": 8,
     "metadata": {},
     "output_type": "execute_result"
    }
   ],
   "source": [
    "text"
   ]
  },
  {
   "cell_type": "markdown",
   "id": "641c5e44-dc82-49e1-b821-c1f2919c8bd7",
   "metadata": {},
   "source": [
    "---"
   ]
  },
  {
   "cell_type": "markdown",
   "id": "4a2897b2-35d4-4fa1-8942-aa61c33641ca",
   "metadata": {},
   "source": [
    "# Testing SpikeX\n",
    "\n",
    "`SpikeX`:\n",
    "- aims to help in building knowledge extraction tools\n",
    "- built on top of spaCy"
   ]
  },
  {
   "cell_type": "code",
   "execution_count": 11,
   "id": "aec14f3e-9099-45a8-97e1-fa5b21b448ea",
   "metadata": {},
   "outputs": [],
   "source": [
    "# creating spacy's instance\n",
    "from spacy import load as spacy_load\n",
    "\n",
    "nlp = spacy_load(\"en_core_web_sm\")\n",
    "doc = nlp(text)"
   ]
  },
  {
   "cell_type": "markdown",
   "id": "a8e6d825-9fc3-40df-8a6b-630c36c033e1",
   "metadata": {},
   "source": [
    "---"
   ]
  },
  {
   "cell_type": "markdown",
   "id": "0954b4ac-8351-4fb9-a071-0d529d909963",
   "metadata": {},
   "source": [
    "### ClusterX\n",
    "\n",
    "The `ClusterX` pipe takes noun chunks in a text and clusters them using a Radial Ball Mapper algorithm."
   ]
  },
  {
   "cell_type": "code",
   "execution_count": 12,
   "id": "1c9da576-08e0-4ffb-a443-c8e1a930821c",
   "metadata": {},
   "outputs": [
    {
     "name": "stdout",
     "output_type": "stream",
     "text": [
      "[Sovereignty]\n",
      "[President Obama]\n",
      "[It]\n",
      "[international lawyers, that term, the Russian government, the Russian hacking, that point, Some international lawyers, the cyber attack]\n",
      "[none]\n",
      "[its exact contours]\n",
      "[the translation effort]\n",
      "[nonlawyers]\n",
      "[the layperson, a mere violation, a variety, the standard rubrics, the foundation, legal discourse, the cyber attacks, the American political process, the 2016 U.S. presidential election, the exact legal norm, an intervention, a funny thing, the difficulty, international law, the attack, a violation, the Westphalian order]\n",
      "[the Democratic National Committee]\n",
      "[\"established international norms]\n",
      "[his way]\n",
      "[the layperson, a mere violation, a variety, the standard rubrics, the foundation, legal discourse, the cyber attacks, the American political process, the 2016 U.S. presidential election, the exact legal norm, an intervention, a funny thing, international law, the attack, a violation, the Westphalian order]\n",
      "[perhaps) shocking interference]\n",
      "[the layperson, a mere violation, a variety, the standard rubrics, legal discourse, the cyber attacks, the American political process, the 2016 U.S. presidential election, the exact legal norm, a funny thing, the difficulty, international law, the attack, a violation, the Westphalian order]\n",
      "[the e-mail system]\n",
      "[a \"violation]\n",
      "[that commonsense intuition]\n",
      "[political or diplomatic discourse]\n",
      "[behavior]\n",
      "[its e]\n",
      "[mails]\n",
      "[reasons]\n",
      "[other things, illegal interventions]\n",
      "[DNC]\n",
      "[The problem, The genesis]\n"
     ]
    },
    {
     "name": "stderr",
     "output_type": "stream",
     "text": [
      "/home/hp/github/spikex/env/lib/python3.8/site-packages/gensim/similarities/__init__.py:15: UserWarning: The gensim.similarities.levenshtein submodule is disabled, because the optional Levenshtein package <https://pypi.org/project/python-Levenshtein/> is unavailable. Install Levenhstein (e.g. `pip install python-Levenshtein`) to suppress this warning.\n",
      "  warnings.warn(msg)\n"
     ]
    }
   ],
   "source": [
    "# ClusterX\n",
    "from spikex.pipes import ClusterX\n",
    "\n",
    "clusterx = ClusterX(min_score=0.65)\n",
    "doc = clusterx(doc)\n",
    "for cluster in doc._.cluster_chunks:\n",
    "    print(cluster)"
   ]
  },
  {
   "cell_type": "markdown",
   "id": "23080f92-a5bb-48fe-a69c-ad2ad8f01e29",
   "metadata": {},
   "source": [
    "### AbbrX\n",
    "\n",
    "The **AbbrX** pipe finds abbreviations and acronyms in the text, linking short and long forms together:"
   ]
  },
  {
   "cell_type": "code",
   "execution_count": 13,
   "id": "452f7b30-5f63-42f6-a08a-61d6a674abc4",
   "metadata": {},
   "outputs": [
    {
     "name": "stdout",
     "output_type": "stream",
     "text": [
      "DNC -> Democratic National Committee\n"
     ]
    }
   ],
   "source": [
    "# AbbrX\n",
    "\n",
    "from spikex.pipes import AbbrX\n",
    "\n",
    "abbrx = AbbrX(nlp.vocab)\n",
    "doc = abbrx(doc)\n",
    "for abbr in doc._.abbrs:\n",
    "    print(abbr, \"->\", abbr._.long_form)"
   ]
  },
  {
   "cell_type": "markdown",
   "id": "73b907a1-b3cc-4d8b-ab22-0ede339a0d12",
   "metadata": {},
   "source": [
    "### LabelX\n",
    "\n",
    "The `LabelX` pipe matches and labels patterns in text, solving overlappings, abbreviations and acronyms."
   ]
  },
  {
   "cell_type": "code",
   "execution_count": 14,
   "id": "dd1ae08e-6afc-4c33-9d9f-72c8517c7b08",
   "metadata": {},
   "outputs": [
    {
     "name": "stdout",
     "output_type": "stream",
     "text": [
      "presidential election [Proccess]\n"
     ]
    }
   ],
   "source": [
    "# LabelX\n",
    "from spikex.pipes import LabelX\n",
    "\n",
    "# don't fully understand how it works, \n",
    "# but from what I see you could create a pattern\n",
    "# and the assign a label for that pattern\n",
    "\n",
    "patterns = [\n",
    "  [{\"LOWER\": \"presidential\"}, {\"LOWER\": \"election\"}],\n",
    "]\n",
    "labelx = LabelX(nlp.vocab, [(\"Proccess\", patterns)], validate=True, only_longest=True)\n",
    "doc = labelx(doc)\n",
    "for labeling in doc._.labelings:\n",
    "    print(labeling, f\"[{labeling.label_}]\")\n"
   ]
  },
  {
   "cell_type": "markdown",
   "id": "2cb2122b-5009-4d5e-93da-2978d681ac8b",
   "metadata": {},
   "source": [
    "### PhraseX\n",
    "\n",
    "The `PhraseX` pipe creates a custom `Doc`'s underscore extension which fulfills with matches from phrase patterns."
   ]
  },
  {
   "cell_type": "code",
   "execution_count": 15,
   "id": "5365cd7e-7383-4cef-b41c-b46f4a73997e",
   "metadata": {},
   "outputs": [
    {
     "name": "stdout",
     "output_type": "stream",
     "text": [
      "presidential\n",
      "election\n"
     ]
    }
   ],
   "source": [
    "# PhraseX\n",
    "from spikex.pipes import PhraseX\n",
    "\n",
    "patterns = [\n",
    "  [{\"LOWER\": \"presidential\"}],\n",
    "  [{\"LOWER\": \"election\"}],\n",
    "]\n",
    "phrasex = PhraseX(nlp.vocab, \"Russia\", patterns)\n",
    "doc = phrasex(doc)\n",
    "for r in doc._.Russia: # <- now all matches are stored in `doc._.Russia`\n",
    "    print(r)"
   ]
  },
  {
   "cell_type": "markdown",
   "id": "830bc95a-3e24-4ed9-9c07-4ad8b935b551",
   "metadata": {},
   "source": [
    "### SentX\n",
    "\n",
    "The **SentX** pipe splits sentences in a text. It modifies tokens' *is_sent_start* attribute, so it's mandatory to add it before *parser* pipe in the spaCy pipeline:"
   ]
  },
  {
   "cell_type": "code",
   "execution_count": 16,
   "id": "77e20b32-da85-42d0-acab-b4f3488e5c6a",
   "metadata": {},
   "outputs": [
    {
     "name": "stdout",
     "output_type": "stream",
     "text": [
      "Sovereignty is a funny thing.\n",
      "It is allegedly the foundation of the Westphalian order, but its exact contours are frustratingly indeterminate.\n",
      "When it was revealed that the Russian government interfered in the 2016 U.S. presidential election by, among other things, hacking into the e-mail system of the Democratic National Committee (DNC) and releasing its e-mails, international lawyers were divided over whether the cyber attack violated international law.\n",
      "President Obama seemingly went out of his way to describe the attack as a mere violation of \"established international norms of behavior\" and pointedly declined to refer to the cyber attacks as a violation of international law.\n",
      "' Some international lawyers were more willing to describe the cyber attack as a violation of international law.\n",
      "2 However, identifying the exact legal norm that was contravened turns out to be harder than it might otherwise appear.\n",
      "To the layperson, the Russian hacking constituted an impermissible (and perhaps) shocking interference in the American political process-an intervention that nonlawyers would not hesitate to label a \"violation of sovereignty\" as that term is used in political or diplomatic discourse.\n",
      "3 The problem arises when one attempts to translate that commonsense intuition into legal discourse.\n",
      "At that point, the translation effort breaks down for a variety of reasons.\n",
      "The genesis of the difficulty is that none of the standard rubrics for understanding illegal interventions clearly and unambiguously apply to the\n"
     ]
    }
   ],
   "source": [
    "# SentX\n",
    "from spikex.pipes import SentX\n",
    "from spikex.defaults import spacy_version\n",
    "\n",
    "if spacy_version >= 3:\n",
    "    from spacy.language import Language\n",
    "\n",
    "    @Language.factory(\"sentx-ir\")\n",
    "    def create_sentx(nlp, name):\n",
    "        return SentX()\n",
    "\n",
    "nlp = spacy_load(\"en_core_web_sm\")\n",
    "sentx_pipe = SentX() if spacy_version < 3 else \"sentx\"\n",
    "nlp.add_pipe(sentx_pipe, before=\"parser\")\n",
    "doc = nlp(text)\n",
    "for sent in doc.sents:\n",
    "    print(sent)"
   ]
  },
  {
   "cell_type": "code",
   "execution_count": null,
   "id": "17a8f4ae-9508-46c6-9ead-04a5094835ae",
   "metadata": {},
   "outputs": [],
   "source": []
  }
 ],
 "metadata": {
  "kernelspec": {
   "display_name": "Python 3 (ipykernel)",
   "language": "python",
   "name": "python3"
  },
  "language_info": {
   "codemirror_mode": {
    "name": "ipython",
    "version": 3
   },
   "file_extension": ".py",
   "mimetype": "text/x-python",
   "name": "python",
   "nbconvert_exporter": "python",
   "pygments_lexer": "ipython3",
   "version": "3.8.10"
  }
 },
 "nbformat": 4,
 "nbformat_minor": 5
}
